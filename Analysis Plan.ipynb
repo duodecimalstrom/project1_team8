{
 "cells": [
  {
   "cell_type": "markdown",
   "metadata": {},
   "source": [
    "# Analysis Plan\n",
    "\n",
    "### Clean the turnstile data:\n",
    "   \n",
    "* Scrape and combine one year's worth of data files into one .csv - *DONE*\n",
    "* See if there any nulls - *DONE*\n",
    "* See if the station names have errors - *DONE*\n",
    "* See if Entries and Exits data needs cleaning - *DONE*\n",
    "* Take difference between rows of data\n",
    "* See if there any outliers(?)\n",
    "    \n",
    "    \n",
    "### EDA of whole dataset / Choose a subset of the data:\n",
    "* *Traffic = Entries + Exits*\n",
    "* Descriptive stats for Entries, Exits, and Traffic - *DONE*\n",
    "* **[Table] [HBar]** Stations with maximum traffic\n",
    "    * Timeframe:\n",
    "        * 1) aggregated over 2 years\n",
    "        * 2) dissagregated by month --> any variance between months?\n",
    "* Narrow down to 20 stations\n",
    "\n",
    "\n",
    "### EDA on subset of data:\n",
    "* **[Bar chart]** Total traffic disaggregated by month for top 20 stations (bar charts)\n",
    "* Descriptive statistics for \"Traffic\" in top 20 stations (mean, median, mode, etc) over\n",
    "    * **[Boxplot?]** Aggregated over 2 years\n",
    "    * **[Barplot]** Disaggregated by month (already done above)\n",
    "    * **[Barplot]** Disaggregated by 3 hour intervals\n",
    "* **[Scatter]** Entries vs. Exits by station\n",
    "    * Timeframe: aggregated over the year --> only needed for notebook, not presentation\n",
    "\n",
    "### Additional datasets analyses to consider:\n",
    "* Subway entrances GeoJSON from MTA open data\n",
    "* Tech company office locations by stations\n",
    "* University locations by stations\n",
    "* Density of young professionals\n",
    "* Gender variance (maybe)\n",
    "* NYC Census data (maybe)\n",
    "\n",
    "Use learnings from above to determine final recommendations\n",
    "\n"
   ]
  },
  {
   "cell_type": "code",
   "execution_count": null,
   "metadata": {},
   "outputs": [],
   "source": []
  }
 ],
 "metadata": {
  "kernelspec": {
   "display_name": "Python 3",
   "language": "python",
   "name": "python3"
  },
  "language_info": {
   "codemirror_mode": {
    "name": "ipython",
    "version": 3
   },
   "file_extension": ".py",
   "mimetype": "text/x-python",
   "name": "python",
   "nbconvert_exporter": "python",
   "pygments_lexer": "ipython3",
   "version": "3.7.2"
  }
 },
 "nbformat": 4,
 "nbformat_minor": 2
}
