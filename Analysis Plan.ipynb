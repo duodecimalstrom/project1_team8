{
 "cells": [
  {
   "cell_type": "markdown",
   "metadata": {},
   "source": [
    "# Analysis Plan\n",
    "\n",
    "### Clean the turnstile data:\n",
    "   \n",
    "* Scrape and combine one year's worth of data files into one .csv\n",
    "* See if there any nulls\n",
    "* See if the station names have errors\n",
    "* See if there any outliers(?)\n",
    "    \n",
    "    \n",
    "### EDA of whole dataset / Choose a subset of the data:\n",
    "* Traffic = Entries + Exits\n",
    "* Descriptive stats for Entries, Exits, and Traffic\n",
    "* **[Table] [HBar]** Stations with maximum traffic   \n",
    "    * Timeframe:\n",
    "        * 1) aggregated over the year\n",
    "        * 2) dissagregated by month(?) --> are there any outliers?\n",
    "* **[Scatter]** Entries vs. Exits by station\n",
    "    * Timeframe: aggregated over the year\n",
    "* Narrow down to 20 stations\n",
    "\n",
    "\n",
    "### EDA on subset of data:\n",
    "* **[Bar chart]** Total traffic disaggregated by month for top 20 stations (bar charts)\n",
    "* Descriptive statistics for \"Traffic\" in top 20 stations (mean, median, mode, etc) over\n",
    "    * Aggregated by day\n",
    "    * Disaggregted by 4 hour intervals\n",
    "\n",
    "\n",
    "### Additional datasets analyses to consider:\n",
    "* Tech company office locations by stations\n",
    "* University locations by stations\n",
    "* Density of young professionals\n",
    "* Gender variance (maybe)\n",
    "\n",
    "Use learnings from above to determine final recommendations\n"
   ]
  },
  {
   "cell_type": "code",
   "execution_count": null,
   "metadata": {},
   "outputs": [],
   "source": []
  }
 ],
 "metadata": {
  "kernelspec": {
   "display_name": "Python 3",
   "language": "python",
   "name": "python3"
  },
  "language_info": {
   "codemirror_mode": {
    "name": "ipython",
    "version": 3
   },
   "file_extension": ".py",
   "mimetype": "text/x-python",
   "name": "python",
   "nbconvert_exporter": "python",
   "pygments_lexer": "ipython3",
   "version": "3.7.2"
  }
 },
 "nbformat": 4,
 "nbformat_minor": 2
}
