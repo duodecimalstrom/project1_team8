{
 "cells": [
  {
   "cell_type": "markdown",
   "metadata": {},
   "source": [
    "## Data Scraper for MTA\n",
    "\n",
    "This notebook will scrape the data from MTA\n",
    "\n",
    "- The turnstile data is available in the following location\n",
    "    - http://web.mta.info/developers/turnstile.html\n",
    "- Use a webscraper to scrape the data and download it\n",
    "- We are going to use Beautiful Soup to download the data"
   ]
  },
  {
   "cell_type": "code",
   "execution_count": 8,
   "metadata": {},
   "outputs": [
    {
     "name": "stdout",
     "output_type": "stream",
     "text": [
      "Requirement already satisfied: wget in /anaconda3/lib/python3.7/site-packages (3.2)\r\n"
     ]
    }
   ],
   "source": [
    "!pip install wget"
   ]
  },
  {
   "cell_type": "code",
   "execution_count": 9,
   "metadata": {},
   "outputs": [],
   "source": [
    "from bs4 import BeautifulSoup"
   ]
  },
  {
   "cell_type": "code",
   "execution_count": 12,
   "metadata": {},
   "outputs": [],
   "source": [
    "import wget"
   ]
  },
  {
   "cell_type": "code",
   "execution_count": 13,
   "metadata": {
    "scrolled": true
   },
   "outputs": [
    {
     "ename": "ModuleNotFoundError",
     "evalue": "No module named 'urllib2'",
     "output_type": "error",
     "traceback": [
      "\u001b[0;31m---------------------------------------------------------------------------\u001b[0m",
      "\u001b[0;31mModuleNotFoundError\u001b[0m                       Traceback (most recent call last)",
      "\u001b[0;32m<ipython-input-13-846c1dbd158b>\u001b[0m in \u001b[0;36m<module>\u001b[0;34m\u001b[0m\n\u001b[0;32m----> 1\u001b[0;31m \u001b[0;32mimport\u001b[0m \u001b[0murllib2\u001b[0m\u001b[0;34m\u001b[0m\u001b[0;34m\u001b[0m\u001b[0m\n\u001b[0m",
      "\u001b[0;31mModuleNotFoundError\u001b[0m: No module named 'urllib2'"
     ]
    }
   ],
   "source": [
    "import urllib2"
   ]
  },
  {
   "cell_type": "code",
   "execution_count": 32,
   "metadata": {},
   "outputs": [],
   "source": [
    "turnstile_page = urllib2.urlopen(\"http://web.mta.info/developers/turnstile.html\")"
   ]
  },
  {
   "cell_type": "code",
   "execution_count": 33,
   "metadata": {},
   "outputs": [],
   "source": [
    "soup = BeautifulSoup(turnstile_page, 'html.parser')"
   ]
  },
  {
   "cell_type": "code",
   "execution_count": 34,
   "metadata": {},
   "outputs": [],
   "source": [
    "href_tags = soup.find_all(href=True)"
   ]
  },
  {
   "cell_type": "code",
   "execution_count": 40,
   "metadata": {},
   "outputs": [],
   "source": [
    "urllist = []\n",
    "for link in href_tags:\n",
    "    if \"txt\" in link.get(\"href\") and \"data\" in link.get(\"href\") and (\"190\" in link.get(\"href\") or \"180\" in link.get(\"href\")) :\n",
    "         urllink = \"http://web.mta.info/developers/\"  + link.get(\"href\")\n",
    "         urllist.append(urllink)"
   ]
  },
  {
   "cell_type": "code",
   "execution_count": 41,
   "metadata": {},
   "outputs": [
    {
     "data": {
      "text/plain": [
       "[u'http://web.mta.info/developers/data/nyct/turnstile/turnstile_190330.txt',\n",
       " u'http://web.mta.info/developers/data/nyct/turnstile/turnstile_190323.txt',\n",
       " u'http://web.mta.info/developers/data/nyct/turnstile/turnstile_190316.txt',\n",
       " u'http://web.mta.info/developers/data/nyct/turnstile/turnstile_190309.txt',\n",
       " u'http://web.mta.info/developers/data/nyct/turnstile/turnstile_190302.txt',\n",
       " u'http://web.mta.info/developers/data/nyct/turnstile/turnstile_190223.txt',\n",
       " u'http://web.mta.info/developers/data/nyct/turnstile/turnstile_190216.txt',\n",
       " u'http://web.mta.info/developers/data/nyct/turnstile/turnstile_190209.txt',\n",
       " u'http://web.mta.info/developers/data/nyct/turnstile/turnstile_190202.txt',\n",
       " u'http://web.mta.info/developers/data/nyct/turnstile/turnstile_190126.txt',\n",
       " u'http://web.mta.info/developers/data/nyct/turnstile/turnstile_190119.txt',\n",
       " u'http://web.mta.info/developers/data/nyct/turnstile/turnstile_190112.txt',\n",
       " u'http://web.mta.info/developers/data/nyct/turnstile/turnstile_190105.txt',\n",
       " u'http://web.mta.info/developers/data/nyct/turnstile/turnstile_180929.txt',\n",
       " u'http://web.mta.info/developers/data/nyct/turnstile/turnstile_180922.txt',\n",
       " u'http://web.mta.info/developers/data/nyct/turnstile/turnstile_180915.txt',\n",
       " u'http://web.mta.info/developers/data/nyct/turnstile/turnstile_180908.txt',\n",
       " u'http://web.mta.info/developers/data/nyct/turnstile/turnstile_180901.txt',\n",
       " u'http://web.mta.info/developers/data/nyct/turnstile/turnstile_180825.txt',\n",
       " u'http://web.mta.info/developers/data/nyct/turnstile/turnstile_180818.txt',\n",
       " u'http://web.mta.info/developers/data/nyct/turnstile/turnstile_180811.txt',\n",
       " u'http://web.mta.info/developers/data/nyct/turnstile/turnstile_180804.txt',\n",
       " u'http://web.mta.info/developers/data/nyct/turnstile/turnstile_180728.txt',\n",
       " u'http://web.mta.info/developers/data/nyct/turnstile/turnstile_180721.txt',\n",
       " u'http://web.mta.info/developers/data/nyct/turnstile/turnstile_180714.txt',\n",
       " u'http://web.mta.info/developers/data/nyct/turnstile/turnstile_180707.txt',\n",
       " u'http://web.mta.info/developers/data/nyct/turnstile/turnstile_180630.txt',\n",
       " u'http://web.mta.info/developers/data/nyct/turnstile/turnstile_180623.txt',\n",
       " u'http://web.mta.info/developers/data/nyct/turnstile/turnstile_180616.txt',\n",
       " u'http://web.mta.info/developers/data/nyct/turnstile/turnstile_180609.txt',\n",
       " u'http://web.mta.info/developers/data/nyct/turnstile/turnstile_180602.txt',\n",
       " u'http://web.mta.info/developers/data/nyct/turnstile/turnstile_180526.txt',\n",
       " u'http://web.mta.info/developers/data/nyct/turnstile/turnstile_180519.txt',\n",
       " u'http://web.mta.info/developers/data/nyct/turnstile/turnstile_180512.txt',\n",
       " u'http://web.mta.info/developers/data/nyct/turnstile/turnstile_180505.txt',\n",
       " u'http://web.mta.info/developers/data/nyct/turnstile/turnstile_180428.txt',\n",
       " u'http://web.mta.info/developers/data/nyct/turnstile/turnstile_180421.txt',\n",
       " u'http://web.mta.info/developers/data/nyct/turnstile/turnstile_180414.txt',\n",
       " u'http://web.mta.info/developers/data/nyct/turnstile/turnstile_180407.txt',\n",
       " u'http://web.mta.info/developers/data/nyct/turnstile/turnstile_180331.txt',\n",
       " u'http://web.mta.info/developers/data/nyct/turnstile/turnstile_180324.txt',\n",
       " u'http://web.mta.info/developers/data/nyct/turnstile/turnstile_180317.txt',\n",
       " u'http://web.mta.info/developers/data/nyct/turnstile/turnstile_180310.txt',\n",
       " u'http://web.mta.info/developers/data/nyct/turnstile/turnstile_180303.txt',\n",
       " u'http://web.mta.info/developers/data/nyct/turnstile/turnstile_180224.txt',\n",
       " u'http://web.mta.info/developers/data/nyct/turnstile/turnstile_180217.txt',\n",
       " u'http://web.mta.info/developers/data/nyct/turnstile/turnstile_180210.txt',\n",
       " u'http://web.mta.info/developers/data/nyct/turnstile/turnstile_180203.txt',\n",
       " u'http://web.mta.info/developers/data/nyct/turnstile/turnstile_180127.txt',\n",
       " u'http://web.mta.info/developers/data/nyct/turnstile/turnstile_180120.txt',\n",
       " u'http://web.mta.info/developers/data/nyct/turnstile/turnstile_180113.txt',\n",
       " u'http://web.mta.info/developers/data/nyct/turnstile/turnstile_180106.txt']"
      ]
     },
     "execution_count": 41,
     "metadata": {},
     "output_type": "execute_result"
    }
   ],
   "source": [
    "urllist"
   ]
  },
  {
   "cell_type": "code",
   "execution_count": 47,
   "metadata": {},
   "outputs": [
    {
     "name": "stdout",
     "output_type": "stream",
     "text": [
      "http://web.mta.info/developers/data/nyct/turnstile/turnstile_190330.txt\n",
      "http://web.mta.info/developers/data/nyct/turnstile/turnstile_190323.txt\n",
      "http://web.mta.info/developers/data/nyct/turnstile/turnstile_190316.txt\n",
      "http://web.mta.info/developers/data/nyct/turnstile/turnstile_190309.txt\n",
      "http://web.mta.info/developers/data/nyct/turnstile/turnstile_190302.txt\n",
      "http://web.mta.info/developers/data/nyct/turnstile/turnstile_190223.txt\n",
      "http://web.mta.info/developers/data/nyct/turnstile/turnstile_190216.txt\n",
      "http://web.mta.info/developers/data/nyct/turnstile/turnstile_190209.txt\n",
      "http://web.mta.info/developers/data/nyct/turnstile/turnstile_190202.txt\n",
      "http://web.mta.info/developers/data/nyct/turnstile/turnstile_190126.txt\n",
      "http://web.mta.info/developers/data/nyct/turnstile/turnstile_190119.txt\n",
      "http://web.mta.info/developers/data/nyct/turnstile/turnstile_190112.txt\n",
      "http://web.mta.info/developers/data/nyct/turnstile/turnstile_190105.txt\n",
      "http://web.mta.info/developers/data/nyct/turnstile/turnstile_180929.txt\n",
      "http://web.mta.info/developers/data/nyct/turnstile/turnstile_180922.txt\n",
      "http://web.mta.info/developers/data/nyct/turnstile/turnstile_180915.txt\n",
      "http://web.mta.info/developers/data/nyct/turnstile/turnstile_180908.txt\n",
      "http://web.mta.info/developers/data/nyct/turnstile/turnstile_180901.txt\n",
      "http://web.mta.info/developers/data/nyct/turnstile/turnstile_180825.txt\n",
      "http://web.mta.info/developers/data/nyct/turnstile/turnstile_180818.txt\n",
      "http://web.mta.info/developers/data/nyct/turnstile/turnstile_180811.txt\n",
      "http://web.mta.info/developers/data/nyct/turnstile/turnstile_180804.txt\n",
      "http://web.mta.info/developers/data/nyct/turnstile/turnstile_180728.txt\n",
      "http://web.mta.info/developers/data/nyct/turnstile/turnstile_180721.txt\n",
      "http://web.mta.info/developers/data/nyct/turnstile/turnstile_180714.txt\n",
      "http://web.mta.info/developers/data/nyct/turnstile/turnstile_180707.txt\n",
      "http://web.mta.info/developers/data/nyct/turnstile/turnstile_180630.txt\n",
      "http://web.mta.info/developers/data/nyct/turnstile/turnstile_180623.txt\n",
      "http://web.mta.info/developers/data/nyct/turnstile/turnstile_180616.txt\n",
      "http://web.mta.info/developers/data/nyct/turnstile/turnstile_180609.txt\n",
      "http://web.mta.info/developers/data/nyct/turnstile/turnstile_180602.txt\n",
      "http://web.mta.info/developers/data/nyct/turnstile/turnstile_180526.txt\n",
      "http://web.mta.info/developers/data/nyct/turnstile/turnstile_180519.txt\n",
      "http://web.mta.info/developers/data/nyct/turnstile/turnstile_180512.txt\n",
      "http://web.mta.info/developers/data/nyct/turnstile/turnstile_180505.txt\n",
      "http://web.mta.info/developers/data/nyct/turnstile/turnstile_180428.txt\n",
      "http://web.mta.info/developers/data/nyct/turnstile/turnstile_180421.txt\n",
      "http://web.mta.info/developers/data/nyct/turnstile/turnstile_180414.txt\n",
      "http://web.mta.info/developers/data/nyct/turnstile/turnstile_180407.txt\n",
      "http://web.mta.info/developers/data/nyct/turnstile/turnstile_180331.txt\n",
      "http://web.mta.info/developers/data/nyct/turnstile/turnstile_180324.txt\n",
      "http://web.mta.info/developers/data/nyct/turnstile/turnstile_180317.txt\n",
      "http://web.mta.info/developers/data/nyct/turnstile/turnstile_180310.txt\n",
      "http://web.mta.info/developers/data/nyct/turnstile/turnstile_180303.txt\n",
      "http://web.mta.info/developers/data/nyct/turnstile/turnstile_180224.txt\n",
      "http://web.mta.info/developers/data/nyct/turnstile/turnstile_180217.txt\n",
      "http://web.mta.info/developers/data/nyct/turnstile/turnstile_180210.txt\n",
      "http://web.mta.info/developers/data/nyct/turnstile/turnstile_180203.txt\n",
      "http://web.mta.info/developers/data/nyct/turnstile/turnstile_180127.txt\n",
      "http://web.mta.info/developers/data/nyct/turnstile/turnstile_180120.txt\n",
      "http://web.mta.info/developers/data/nyct/turnstile/turnstile_180113.txt\n",
      "http://web.mta.info/developers/data/nyct/turnstile/turnstile_180106.txt\n"
     ]
    }
   ],
   "source": [
    "for links in urllist: \n",
    "    print links\n",
    "    wget.download(links)\n",
    "#wget.download(\"http://web.mta.info/developers/data/nyct/turnstile/turnstile_180106.txt\")"
   ]
  },
  {
   "cell_type": "code",
   "execution_count": 48,
   "metadata": {},
   "outputs": [
    {
     "name": "stdout",
     "output_type": "stream",
     "text": [
      "total 2906744\r\n",
      "-rw-r--r--@ 1 shivajidutta  staff     13235 Apr  1 18:23 DownloadData.ipynb\r\n",
      "-rw-r--r--@ 1 shivajidutta  staff     95273 Apr  1 17:24 MTA Data Analysis.ipynb\r\n",
      "-rw-r--r--@ 1 shivajidutta  staff  26287246 Apr  1 18:22 turnstile_180106.txt\r\n",
      "-rw-r--r--@ 1 shivajidutta  staff  26346589 Apr  1 18:22 turnstile_180113.txt\r\n",
      "-rw-r--r--@ 1 shivajidutta  staff  26077646 Apr  1 18:22 turnstile_180120.txt\r\n",
      "-rw-r--r--@ 1 shivajidutta  staff  26375933 Apr  1 18:22 turnstile_180127.txt\r\n",
      "-rw-r--r--@ 1 shivajidutta  staff  26119959 Apr  1 18:22 turnstile_180203.txt\r\n",
      "-rw-r--r--@ 1 shivajidutta  staff  25869356 Apr  1 18:22 turnstile_180210.txt\r\n",
      "-rw-r--r--@ 1 shivajidutta  staff  26116946 Apr  1 18:22 turnstile_180217.txt\r\n",
      "-rw-r--r--@ 1 shivajidutta  staff  25926341 Apr  1 18:22 turnstile_180224.txt\r\n",
      "-rw-r--r--@ 1 shivajidutta  staff  26074109 Apr  1 18:22 turnstile_180303.txt\r\n",
      "-rw-r--r--@ 1 shivajidutta  staff  26084327 Apr  1 18:21 turnstile_180310.txt\r\n",
      "-rw-r--r--@ 1 shivajidutta  staff  25589278 Apr  1 18:21 turnstile_180317.txt\r\n",
      "-rw-r--r--@ 1 shivajidutta  staff  25826650 Apr  1 18:21 turnstile_180324.txt\r\n",
      "-rw-r--r--@ 1 shivajidutta  staff  25761805 Apr  1 18:21 turnstile_180331.txt\r\n",
      "-rw-r--r--@ 1 shivajidutta  staff  25805559 Apr  1 18:21 turnstile_180407.txt\r\n",
      "-rw-r--r--@ 1 shivajidutta  staff  25753552 Apr  1 18:21 turnstile_180414.txt\r\n",
      "-rw-r--r--@ 1 shivajidutta  staff  25831759 Apr  1 18:21 turnstile_180421.txt\r\n",
      "-rw-r--r--@ 1 shivajidutta  staff  25882980 Apr  1 18:21 turnstile_180428.txt\r\n",
      "-rw-r--r--@ 1 shivajidutta  staff  25833593 Apr  1 18:21 turnstile_180505.txt\r\n",
      "-rw-r--r--@ 1 shivajidutta  staff  25761936 Apr  1 18:21 turnstile_180512.txt\r\n",
      "-rw-r--r--@ 1 shivajidutta  staff  25772154 Apr  1 18:20 turnstile_180519.txt\r\n",
      "-rw-r--r--@ 1 shivajidutta  staff  25960925 Apr  1 18:20 turnstile_180526.txt\r\n",
      "-rw-r--r--@ 1 shivajidutta  staff  25759447 Apr  1 18:20 turnstile_180602.txt\r\n",
      "-rw-r--r--@ 1 shivajidutta  staff  25773464 Apr  1 18:20 turnstile_180609.txt\r\n",
      "-rw-r--r--@ 1 shivajidutta  staff  25804249 Apr  1 18:20 turnstile_180616.txt\r\n",
      "-rw-r--r--@ 1 shivajidutta  staff  25765997 Apr  1 18:20 turnstile_180623.txt\r\n",
      "-rw-r--r--@ 1 shivajidutta  staff  25766521 Apr  1 18:20 turnstile_180630.txt\r\n",
      "-rw-r--r--@ 1 shivajidutta  staff  25824161 Apr  1 18:20 turnstile_180707.txt\r\n",
      "-rw-r--r--@ 1 shivajidutta  staff  25805428 Apr  1 18:19 turnstile_180714.txt\r\n",
      "-rw-r--r--@ 1 shivajidutta  staff  25669450 Apr  1 18:19 turnstile_180721.txt\r\n",
      "-rw-r--r--@ 1 shivajidutta  staff  25576309 Apr  1 18:19 turnstile_180728.txt\r\n",
      "-rw-r--r--@ 1 shivajidutta  staff  25611941 Apr  1 18:18 turnstile_180804.txt\r\n",
      "-rw-r--r--@ 1 shivajidutta  staff  25964069 Apr  1 18:18 turnstile_180811.txt\r\n",
      "-rw-r--r--@ 1 shivajidutta  staff  25579322 Apr  1 18:17 turnstile_180818.txt\r\n",
      "-rw-r--r--@ 1 shivajidutta  staff  25856911 Apr  1 18:17 turnstile_180825.txt\r\n",
      "-rw-r--r--@ 1 shivajidutta  staff  25889006 Apr  1 18:17 turnstile_180901.txt\r\n",
      "-rw-r--r--@ 1 shivajidutta  staff  25631198 Apr  1 18:17 turnstile_180908.txt\r\n",
      "-rw-r--r--@ 1 shivajidutta  staff  25937214 Apr  1 18:16 turnstile_180915.txt\r\n",
      "-rw-r--r--@ 1 shivajidutta  staff  26082493 Apr  1 18:15 turnstile_180922.txt\r\n",
      "-rw-r--r--@ 1 shivajidutta  staff  26206419 Apr  1 18:15 turnstile_180929.txt\r\n",
      "-rw-r--r--@ 1 shivajidutta  staff  26410124 Apr  1 18:15 turnstile_190105.txt\r\n",
      "-rw-r--r--@ 1 shivajidutta  staff  26342921 Apr  1 18:14 turnstile_190112.txt\r\n",
      "-rw-r--r--@ 1 shivajidutta  staff  26819368 Apr  1 18:14 turnstile_190119.txt\r\n",
      "-rw-r--r--@ 1 shivajidutta  staff  26409600 Apr  1 18:14 turnstile_190126.txt\r\n",
      "-rw-r--r--@ 1 shivajidutta  staff  26581603 Apr  1 18:13 turnstile_190202.txt\r\n",
      "-rw-r--r--@ 1 shivajidutta  staff  26558416 Apr  1 18:13 turnstile_190209.txt\r\n",
      "-rw-r--r--@ 1 shivajidutta  staff  26820678 Apr  1 18:13 turnstile_190216.txt\r\n",
      "-rw-r--r--@ 1 shivajidutta  staff  26731336 Apr  1 18:13 turnstile_190223.txt\r\n",
      "-rw-r--r--@ 1 shivajidutta  staff  26617890 Apr  1 18:12 turnstile_190302.txt\r\n",
      "-rw-r--r--@ 1 shivajidutta  staff  26722428 Apr  1 18:12 turnstile_190309.txt\r\n",
      "-rw-r--r--@ 1 shivajidutta  staff  26434883 Apr  1 18:12 turnstile_190316 (1).txt\r\n",
      "-rw-r--r--@ 1 shivajidutta  staff  26434820 Apr  1 15:57 turnstile_190316.txt\r\n",
      "-rw-r--r--@ 1 shivajidutta  staff  26434883 Apr  1 15:56 turnstile_190316.txt_backup\r\n",
      "-rw-r--r--@ 1 shivajidutta  staff  26556713 Apr  1 18:11 turnstile_190323 (1).txt\r\n",
      "-rw-r--r--@ 1 shivajidutta  staff  26556713 Mar 23 02:14 turnstile_190323.txt\r\n",
      "-rw-r--r--@ 1 shivajidutta  staff  26802076 Apr  1 18:11 turnstile_190330 (1).txt\r\n",
      "-rw-r--r--@ 1 shivajidutta  staff  26802076 Mar 30 02:08 turnstile_190330.txt\r\n"
     ]
    }
   ],
   "source": [
    "!ls -l"
   ]
  },
  {
   "cell_type": "code",
   "execution_count": null,
   "metadata": {},
   "outputs": [],
   "source": []
  }
 ],
 "metadata": {
  "anaconda-cloud": {},
  "kernelspec": {
   "display_name": "Python 3",
   "language": "python",
   "name": "python3"
  },
  "language_info": {
   "codemirror_mode": {
    "name": "ipython",
    "version": 3
   },
   "file_extension": ".py",
   "mimetype": "text/x-python",
   "name": "python",
   "nbconvert_exporter": "python",
   "pygments_lexer": "ipython3",
   "version": "3.7.2"
  }
 },
 "nbformat": 4,
 "nbformat_minor": 2
}
